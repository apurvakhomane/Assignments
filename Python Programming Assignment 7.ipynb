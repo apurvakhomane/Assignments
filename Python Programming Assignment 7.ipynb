{
 "cells": [
  {
   "cell_type": "markdown",
   "id": "46b225d0",
   "metadata": {},
   "source": [
    "1. Write a Python Program to find sum of array?"
   ]
  },
  {
   "cell_type": "code",
   "execution_count": null,
   "id": "d9ce1095",
   "metadata": {},
   "outputs": [],
   "source": [
    "#Method 1"
   ]
  },
  {
   "cell_type": "code",
   "execution_count": 1,
   "id": "bb77c2a1",
   "metadata": {},
   "outputs": [],
   "source": [
    "def array_sum(arr):\n",
    "    sum = 0\n",
    "    for i in arr:\n",
    "        sum = sum + i\n",
    "    return sum"
   ]
  },
  {
   "cell_type": "code",
   "execution_count": 2,
   "id": "de43b88a",
   "metadata": {},
   "outputs": [
    {
     "data": {
      "text/plain": [
       "15"
      ]
     },
     "execution_count": 2,
     "metadata": {},
     "output_type": "execute_result"
    }
   ],
   "source": [
    "array_sum([1,2,3,4,5])"
   ]
  },
  {
   "cell_type": "code",
   "execution_count": null,
   "id": "76f496c6",
   "metadata": {},
   "outputs": [],
   "source": [
    "#Method 2"
   ]
  },
  {
   "cell_type": "code",
   "execution_count": 3,
   "id": "94ebeed5",
   "metadata": {},
   "outputs": [],
   "source": [
    "arr = [1,2,3,4,5]"
   ]
  },
  {
   "cell_type": "code",
   "execution_count": 4,
   "id": "0f790cdc",
   "metadata": {},
   "outputs": [
    {
     "data": {
      "text/plain": [
       "15"
      ]
     },
     "execution_count": 4,
     "metadata": {},
     "output_type": "execute_result"
    }
   ],
   "source": [
    "sum(arr)"
   ]
  },
  {
   "cell_type": "code",
   "execution_count": null,
   "id": "51f37002",
   "metadata": {},
   "outputs": [],
   "source": [
    "#Method 3"
   ]
  },
  {
   "cell_type": "code",
   "execution_count": 7,
   "id": "189e619c",
   "metadata": {},
   "outputs": [],
   "source": [
    "from functools import reduce\n",
    "def sum_array(arr):\n",
    "    sum = reduce(lambda a, b : a + b , arr)\n",
    "    return sum"
   ]
  },
  {
   "cell_type": "code",
   "execution_count": 8,
   "id": "af9f9834",
   "metadata": {},
   "outputs": [
    {
     "data": {
      "text/plain": [
       "15"
      ]
     },
     "execution_count": 8,
     "metadata": {},
     "output_type": "execute_result"
    }
   ],
   "source": [
    "sum_array([1,2,3,4,5])"
   ]
  },
  {
   "cell_type": "code",
   "execution_count": null,
   "id": "564f1379",
   "metadata": {},
   "outputs": [],
   "source": [
    "#Method 4"
   ]
  },
  {
   "cell_type": "code",
   "execution_count": 9,
   "id": "6fb524dd",
   "metadata": {},
   "outputs": [
    {
     "name": "stdout",
     "output_type": "stream",
     "text": [
      "Sum of all the elements of an array: 15\n"
     ]
    }
   ],
   "source": [
    "arr = [1, 2, 3, 4, 5];     \n",
    "sum = 0;    \n",
    "        \n",
    "for i in range(0, len(arr)):\n",
    "    sum = sum + arr[i];    \n",
    "     \n",
    "print(\"Sum of all the elements of an array: \" + str(sum))   "
   ]
  },
  {
   "cell_type": "markdown",
   "id": "40c66915",
   "metadata": {},
   "source": [
    "2. Write a Python Program to find largest element in an array?"
   ]
  },
  {
   "cell_type": "code",
   "execution_count": null,
   "id": "b2644014",
   "metadata": {},
   "outputs": [],
   "source": [
    "#Method 1"
   ]
  },
  {
   "cell_type": "code",
   "execution_count": 10,
   "id": "f1c0adde",
   "metadata": {},
   "outputs": [],
   "source": [
    "def largest(arr):\n",
    "    max = arr[0]\n",
    "    for i in range(len(arr)):\n",
    "        if arr[i]>max:\n",
    "            max = arr[i]\n",
    "    return max"
   ]
  },
  {
   "cell_type": "code",
   "execution_count": 11,
   "id": "34cc9b15",
   "metadata": {},
   "outputs": [
    {
     "data": {
      "text/plain": [
       "5"
      ]
     },
     "execution_count": 11,
     "metadata": {},
     "output_type": "execute_result"
    }
   ],
   "source": [
    "largest([1,2,3,4,5])"
   ]
  },
  {
   "cell_type": "code",
   "execution_count": null,
   "id": "1393c30b",
   "metadata": {},
   "outputs": [],
   "source": [
    "#Method 2"
   ]
  },
  {
   "cell_type": "code",
   "execution_count": 14,
   "id": "be2008b9",
   "metadata": {},
   "outputs": [],
   "source": [
    "def largest_(arr):\n",
    "    arr.sort()\n",
    "    return arr[len(arr)-1]\n",
    "    "
   ]
  },
  {
   "cell_type": "code",
   "execution_count": 15,
   "id": "20e0994d",
   "metadata": {},
   "outputs": [
    {
     "data": {
      "text/plain": [
       "5"
      ]
     },
     "execution_count": 15,
     "metadata": {},
     "output_type": "execute_result"
    }
   ],
   "source": [
    "largest_([1,2,3,4,5])"
   ]
  },
  {
   "cell_type": "code",
   "execution_count": null,
   "id": "d0b1846a",
   "metadata": {},
   "outputs": [],
   "source": [
    "#Method 3"
   ]
  },
  {
   "cell_type": "code",
   "execution_count": 16,
   "id": "e790aab3",
   "metadata": {},
   "outputs": [],
   "source": [
    "from functools import reduce\n",
    "def _largest(arr):\n",
    "    return reduce(max,arr)"
   ]
  },
  {
   "cell_type": "code",
   "execution_count": 17,
   "id": "91b34ac1",
   "metadata": {},
   "outputs": [
    {
     "data": {
      "text/plain": [
       "5"
      ]
     },
     "execution_count": 17,
     "metadata": {},
     "output_type": "execute_result"
    }
   ],
   "source": [
    "_largest([1,2,3,4,5])"
   ]
  },
  {
   "cell_type": "markdown",
   "id": "ea6ed7cb",
   "metadata": {},
   "source": [
    "3. Write a Python Program for array rotation? "
   ]
  },
  {
   "cell_type": "code",
   "execution_count": 24,
   "id": "39ff0e6a",
   "metadata": {},
   "outputs": [
    {
     "data": {
      "text/plain": [
       "[3, 4, 5, 6, 1, 2]"
      ]
     },
     "execution_count": 24,
     "metadata": {},
     "output_type": "execute_result"
    }
   ],
   "source": [
    "def rotateArray(arr, n, d):\n",
    "    temp = []\n",
    "    i = 0\n",
    "    while (i < d):\n",
    "        temp.append(arr[i])\n",
    "        i = i + 1\n",
    "    i = 0\n",
    "    while (d < n):\n",
    "        arr[i] = arr[d]\n",
    "        i = i + 1\n",
    "        d = d + 1\n",
    "    arr[:] = arr[: i] + temp\n",
    "    return arr\n",
    "rotateArray([1,2,3,4,5,6], len([1,2,3,4,5,6]),2)"
   ]
  },
  {
   "cell_type": "markdown",
   "id": "8d0c1c33",
   "metadata": {},
   "source": [
    "4. Write a Python Program to Split the array and add the first part to the end?"
   ]
  },
  {
   "cell_type": "code",
   "execution_count": 29,
   "id": "7a17585d",
   "metadata": {},
   "outputs": [
    {
     "data": {
      "text/plain": [
       "[3, 4, 5, 1, 2]"
      ]
     },
     "execution_count": 29,
     "metadata": {},
     "output_type": "execute_result"
    }
   ],
   "source": [
    "def splitArr(a, n, k): \n",
    "    return (a[k::]+a[:k])\n",
    "splitArr([1,2,3,4,5],len([1,2,3,4,5]),2)         "
   ]
  },
  {
   "cell_type": "markdown",
   "id": "35d8ab18",
   "metadata": {},
   "source": [
    "5. Write a Python Program to check if given array is Monotonic?"
   ]
  },
  {
   "cell_type": "code",
   "execution_count": 28,
   "id": "d5ae0ea3",
   "metadata": {},
   "outputs": [
    {
     "name": "stdout",
     "output_type": "stream",
     "text": [
      "True\n"
     ]
    }
   ],
   "source": [
    "def isMonotonic(A):\n",
    "    x, y = [], []\n",
    "    x.extend(A)\n",
    "    y.extend(A)\n",
    "    x.sort()\n",
    "    y.sort(reverse=True)\n",
    "    if(x == A or y == A):\n",
    "        return True\n",
    "    return False\n",
    " \n",
    "A = [6, 5, 4, 4]\n",
    "print(isMonotonic(A))"
   ]
  }
 ],
 "metadata": {
  "kernelspec": {
   "display_name": "Python 3",
   "language": "python",
   "name": "python3"
  },
  "language_info": {
   "codemirror_mode": {
    "name": "ipython",
    "version": 3
   },
   "file_extension": ".py",
   "mimetype": "text/x-python",
   "name": "python",
   "nbconvert_exporter": "python",
   "pygments_lexer": "ipython3",
   "version": "3.8.8"
  }
 },
 "nbformat": 4,
 "nbformat_minor": 5
}
