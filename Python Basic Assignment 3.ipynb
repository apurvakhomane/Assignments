{
 "cells": [
  {
   "cell_type": "markdown",
   "id": "f9d914d1",
   "metadata": {},
   "source": [
    "1. Why are functions advantageous to have in your programs?\n",
    "2. When does the code in a function run: when it&#39;s specified or when it&#39;s called?\n",
    "3. What statement creates a function?\n",
    "4. What is the difference between a function and a function call?\n",
    "5. How many global scopes are there in a Python program? How many local scopes?\n",
    "6. What happens to variables in a local scope when the function call returns?\n",
    "7. What is the concept of a return value? Is it possible to have a return value in an expression?\n",
    "8. If a function does not have a return statement, what is the return value of a call to that function?\n",
    "9. How do you make a function variable refer to the global variable?\n",
    "10. What is the data type of None?\n",
    "11. What does the sentence import areallyourpetsnamederic do?\n",
    "12. If you had a bacon() feature in a spam module, what would you call it after importing spam?\n",
    "13. What can you do to save a programme from crashing if it encounters an error?\n",
    "14. What is the purpose of the try clause? What is the purpose of the except clause?"
   ]
  },
  {
   "cell_type": "code",
   "execution_count": 1,
   "id": "18018b0e",
   "metadata": {},
   "outputs": [],
   "source": [
    "#Answer 1"
   ]
  },
  {
   "cell_type": "markdown",
   "id": "0739c3dd",
   "metadata": {},
   "source": [
    "Functions reduce the need for duplicate code. This makes programs shorter, easier to read, and easier to update."
   ]
  },
  {
   "cell_type": "code",
   "execution_count": 2,
   "id": "2ffff698",
   "metadata": {},
   "outputs": [],
   "source": [
    "#Answer 2"
   ]
  },
  {
   "cell_type": "markdown",
   "id": "edb2798c",
   "metadata": {},
   "source": [
    "The code in a function executes when the function is called, not when the function is defined."
   ]
  },
  {
   "cell_type": "code",
   "execution_count": 3,
   "id": "f901a089",
   "metadata": {},
   "outputs": [],
   "source": [
    "#Answer 3"
   ]
  },
  {
   "cell_type": "markdown",
   "id": "830e45d6",
   "metadata": {},
   "source": [
    "The def statement defines (that is, creates) a function."
   ]
  },
  {
   "cell_type": "code",
   "execution_count": 17,
   "id": "9a50d381",
   "metadata": {},
   "outputs": [],
   "source": [
    "def function_name():\n",
    "    pass"
   ]
  },
  {
   "cell_type": "code",
   "execution_count": 4,
   "id": "dfa1cc55",
   "metadata": {},
   "outputs": [],
   "source": [
    "#Answer 4"
   ]
  },
  {
   "cell_type": "markdown",
   "id": "17698352",
   "metadata": {},
   "source": [
    "A function consists of the def statement and the code in its def clause.\n",
    "\n",
    "A function call is what moves the program execution into the function, and the function call evaluates to the function’s return value."
   ]
  },
  {
   "cell_type": "code",
   "execution_count": 5,
   "id": "65b3a8fa",
   "metadata": {},
   "outputs": [],
   "source": [
    "#Answer 5"
   ]
  },
  {
   "cell_type": "markdown",
   "id": "453401e6",
   "metadata": {},
   "source": [
    "There is one global scope.\n",
    "A local scope can be of any number, is created whenever a function is called."
   ]
  },
  {
   "cell_type": "code",
   "execution_count": 7,
   "id": "4be77a4e",
   "metadata": {},
   "outputs": [],
   "source": [
    "#Answer 6"
   ]
  },
  {
   "cell_type": "markdown",
   "id": "972784ff",
   "metadata": {},
   "source": [
    "When a function returns, the local scope is destroyed, and all the variables in it are forgotten."
   ]
  },
  {
   "cell_type": "code",
   "execution_count": 8,
   "id": "c04c8a6d",
   "metadata": {},
   "outputs": [],
   "source": [
    "#Answer 7"
   ]
  },
  {
   "cell_type": "markdown",
   "id": "2d15b3e4",
   "metadata": {},
   "source": [
    "A return value is the value that a function call evaluates to. Like any value, a return value can be used as part of an expression.\n",
    "\n",
    "A return statement is used to end the execution of the function call and “returns” the result (value of the expression following the return keyword) to the caller. The statements after the return statements are not executed. If the return statement is without any expression, then the special value None is returned. A return statement is overall used to invoke a function so that the passed statements can be executed. Return statement can not be used outside the function.\n",
    "\n",
    "The return value of a Python function can be any Python object. Everything in Python is an object. So, your functions can return numeric values (int, float, and complex values), collections and sequences of objects (list, tuple, dictionary, or set objects), user-defined objects, classes, functions, and even modules or packages."
   ]
  },
  {
   "cell_type": "code",
   "execution_count": 9,
   "id": "0a67bd71",
   "metadata": {},
   "outputs": [],
   "source": [
    "#Answer 8"
   ]
  },
  {
   "cell_type": "markdown",
   "id": "01243845",
   "metadata": {},
   "source": [
    "If there is no return statement for a function, its return value is None."
   ]
  },
  {
   "cell_type": "code",
   "execution_count": 10,
   "id": "2385a77b",
   "metadata": {},
   "outputs": [],
   "source": [
    "#Answer 9"
   ]
  },
  {
   "cell_type": "markdown",
   "id": "793d058f",
   "metadata": {},
   "source": [
    "A global statement will force a variable in a function to refer to the global variable.\n",
    "\n",
    "Variables that are created outside of a function (as in all of the examples above) are known as global variables.\n",
    "\n",
    "Global variables can be used by everyone, both inside of functions and outside."
   ]
  },
  {
   "cell_type": "code",
   "execution_count": 20,
   "id": "a200d5aa",
   "metadata": {},
   "outputs": [
    {
     "name": "stdout",
     "output_type": "stream",
     "text": [
      "Python is awesome\n"
     ]
    }
   ],
   "source": [
    "x = \"awesome\" #Global Variable \n",
    "\n",
    "def myfunc():\n",
    "    print(\"Python is \" + x) \n",
    "\n",
    "myfunc()\n"
   ]
  },
  {
   "cell_type": "code",
   "execution_count": 24,
   "id": "3b4e0421",
   "metadata": {},
   "outputs": [
    {
     "name": "stdout",
     "output_type": "stream",
     "text": [
      "global\n"
     ]
    },
    {
     "data": {
      "text/plain": [
       "'local'"
      ]
     },
     "execution_count": 24,
     "metadata": {},
     "output_type": "execute_result"
    }
   ],
   "source": [
    "x='global'\n",
    "def glo_loc():\n",
    "    x='local'\n",
    "    return(x)\n",
    "print(x)\n",
    "glo_loc()"
   ]
  },
  {
   "cell_type": "markdown",
   "id": "f8f59f19",
   "metadata": {},
   "source": [
    "If you create a variable with the same name inside a function, this variable will be local, and can only be used inside the function. The global variable with the same name will remain as it was, global and with the original value."
   ]
  },
  {
   "cell_type": "code",
   "execution_count": 22,
   "id": "e9048617",
   "metadata": {},
   "outputs": [
    {
     "name": "stdout",
     "output_type": "stream",
     "text": [
      "Python is fantastic\n",
      "Python is awesome\n"
     ]
    }
   ],
   "source": [
    "x = \"awesome\"\n",
    "\n",
    "def myfunc():\n",
    "  x = \"fantastic\"\n",
    "  print(\"Python is \" + x)\n",
    "\n",
    "myfunc()\n",
    "\n",
    "print(\"Python is \" + x)"
   ]
  },
  {
   "cell_type": "markdown",
   "id": "2d42ef64",
   "metadata": {},
   "source": [
    "Normally, when you create a variable inside a function, that variable is local, and can only be used inside that function.\n",
    "To create a global variable inside a function, you can use the global keyword.\n",
    "If you use the global keyword, the variable belongs to the global scope:"
   ]
  },
  {
   "cell_type": "code",
   "execution_count": 23,
   "id": "966c1514",
   "metadata": {},
   "outputs": [
    {
     "name": "stdout",
     "output_type": "stream",
     "text": [
      "Python is fantastic\n"
     ]
    }
   ],
   "source": [
    "def myfunc():\n",
    "  global x\n",
    "  x = \"fantastic\"\n",
    "\n",
    "myfunc()\n",
    "\n",
    "print(\"Python is \" + x)"
   ]
  },
  {
   "cell_type": "code",
   "execution_count": 11,
   "id": "d336adb4",
   "metadata": {},
   "outputs": [],
   "source": [
    "#Answer 10"
   ]
  },
  {
   "cell_type": "markdown",
   "id": "eeec4ba3",
   "metadata": {},
   "source": [
    "The data type of None is NoneType."
   ]
  },
  {
   "cell_type": "code",
   "execution_count": 13,
   "id": "443ec9c0",
   "metadata": {},
   "outputs": [],
   "source": [
    "#Answer 11"
   ]
  },
  {
   "cell_type": "markdown",
   "id": "d2c7856b",
   "metadata": {},
   "source": [
    "That import statement imports a module named areallyourpetsnamederic. "
   ]
  },
  {
   "cell_type": "code",
   "execution_count": 14,
   "id": "512447c3",
   "metadata": {},
   "outputs": [],
   "source": [
    "#Answer 12"
   ]
  },
  {
   "cell_type": "markdown",
   "id": "03be0689",
   "metadata": {},
   "source": [
    "This function can be called with spam.bacon()."
   ]
  },
  {
   "cell_type": "code",
   "execution_count": null,
   "id": "6bfc1245",
   "metadata": {},
   "outputs": [],
   "source": [
    "import spam\n",
    "spam.bacon()"
   ]
  },
  {
   "cell_type": "code",
   "execution_count": 15,
   "id": "fdc41cc2",
   "metadata": {},
   "outputs": [],
   "source": [
    "#Answer 13"
   ]
  },
  {
   "cell_type": "markdown",
   "id": "c54cdc41",
   "metadata": {},
   "source": [
    "Place the line of code that might cause an error in a try clause.\n",
    "We can use exception handling(try, except) to save a programme from crashing if it encounters an error."
   ]
  },
  {
   "cell_type": "code",
   "execution_count": 16,
   "id": "f2137d71",
   "metadata": {},
   "outputs": [],
   "source": [
    "#Anwer 14"
   ]
  },
  {
   "cell_type": "markdown",
   "id": "6d0573bb",
   "metadata": {},
   "source": [
    "The code that could potentially cause an error goes in the try clause.\n",
    "\n",
    "The code that executes if an error happens goes in the except clause."
   ]
  },
  {
   "cell_type": "markdown",
   "id": "1493f367",
   "metadata": {},
   "source": [
    "When an error occurs, or exception as we call it, Python will normally stop and generate an error message.\n",
    "These exceptions can be handled using the try statement:"
   ]
  },
  {
   "cell_type": "markdown",
   "id": "b1247409",
   "metadata": {},
   "source": [
    "The try block will generate an exception, because y is not defined:"
   ]
  },
  {
   "cell_type": "code",
   "execution_count": 28,
   "id": "20863883",
   "metadata": {},
   "outputs": [
    {
     "name": "stdout",
     "output_type": "stream",
     "text": [
      "An exception occurred\n"
     ]
    }
   ],
   "source": [
    "try:\n",
    "    print(y)\n",
    "except:\n",
    "    print(\"An exception occurred\")"
   ]
  },
  {
   "cell_type": "markdown",
   "id": "27b1f746",
   "metadata": {},
   "source": [
    "Since the try block raises an error, the except block will be executed.\n",
    "Without the try block, the program will crash and raise an error"
   ]
  }
 ],
 "metadata": {
  "kernelspec": {
   "display_name": "Python 3",
   "language": "python",
   "name": "python3"
  },
  "language_info": {
   "codemirror_mode": {
    "name": "ipython",
    "version": 3
   },
   "file_extension": ".py",
   "mimetype": "text/x-python",
   "name": "python",
   "nbconvert_exporter": "python",
   "pygments_lexer": "ipython3",
   "version": "3.8.8"
  }
 },
 "nbformat": 4,
 "nbformat_minor": 5
}
