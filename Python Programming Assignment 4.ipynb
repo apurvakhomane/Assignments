{
 "cells": [
  {
   "cell_type": "code",
   "execution_count": null,
   "id": "0ce0dff8",
   "metadata": {},
   "outputs": [],
   "source": [
    "1. Write a Python Program to Find the Factorial of a Number?"
   ]
  },
  {
   "cell_type": "code",
   "execution_count": 8,
   "id": "d931cd2b",
   "metadata": {},
   "outputs": [
    {
     "name": "stdout",
     "output_type": "stream",
     "text": [
      "Enter a number: 5\n",
      "the factorial of 5 is 120\n"
     ]
    }
   ],
   "source": [
    "num = int(input('Enter a number: ' ))\n",
    "factorial = 1\n",
    "if num <0:\n",
    "    print('No factorial for negative number')\n",
    "elif num==0:\n",
    "    print('Factorial of zero is 1')\n",
    "else:\n",
    "    for i in range(1,num+1):\n",
    "        factorial = factorial *i\n",
    "    print ('the factorial of', num, 'is', factorial)"
   ]
  },
  {
   "cell_type": "code",
   "execution_count": null,
   "id": "9e630f24",
   "metadata": {},
   "outputs": [],
   "source": [
    "2. Write a Python Program to Display the multiplication Table?"
   ]
  },
  {
   "cell_type": "code",
   "execution_count": null,
   "id": "f406e5df",
   "metadata": {},
   "outputs": [],
   "source": [
    "#Method 1"
   ]
  },
  {
   "cell_type": "code",
   "execution_count": 25,
   "id": "58d83d4f",
   "metadata": {},
   "outputs": [
    {
     "name": "stdout",
     "output_type": "stream",
     "text": [
      "1 X 1 = 1\n",
      "1 X 2 = 2\n",
      "1 X 3 = 3\n",
      "1 X 4 = 4\n",
      "1 X 5 = 5\n",
      "1 X 6 = 6\n",
      "1 X 7 = 7\n",
      "1 X 8 = 8\n",
      "1 X 9 = 9\n",
      "1 X 10 = 10\n",
      "\n",
      "2 X 1 = 2\n",
      "2 X 2 = 4\n",
      "2 X 3 = 6\n",
      "2 X 4 = 8\n",
      "2 X 5 = 10\n",
      "2 X 6 = 12\n",
      "2 X 7 = 14\n",
      "2 X 8 = 16\n",
      "2 X 9 = 18\n",
      "2 X 10 = 20\n",
      "\n",
      "3 X 1 = 3\n",
      "3 X 2 = 6\n",
      "3 X 3 = 9\n",
      "3 X 4 = 12\n",
      "3 X 5 = 15\n",
      "3 X 6 = 18\n",
      "3 X 7 = 21\n",
      "3 X 8 = 24\n",
      "3 X 9 = 27\n",
      "3 X 10 = 30\n",
      "\n",
      "4 X 1 = 4\n",
      "4 X 2 = 8\n",
      "4 X 3 = 12\n",
      "4 X 4 = 16\n",
      "4 X 5 = 20\n",
      "4 X 6 = 24\n",
      "4 X 7 = 28\n",
      "4 X 8 = 32\n",
      "4 X 9 = 36\n",
      "4 X 10 = 40\n",
      "\n",
      "5 X 1 = 5\n",
      "5 X 2 = 10\n",
      "5 X 3 = 15\n",
      "5 X 4 = 20\n",
      "5 X 5 = 25\n",
      "5 X 6 = 30\n",
      "5 X 7 = 35\n",
      "5 X 8 = 40\n",
      "5 X 9 = 45\n",
      "5 X 10 = 50\n",
      "\n",
      "6 X 1 = 6\n",
      "6 X 2 = 12\n",
      "6 X 3 = 18\n",
      "6 X 4 = 24\n",
      "6 X 5 = 30\n",
      "6 X 6 = 36\n",
      "6 X 7 = 42\n",
      "6 X 8 = 48\n",
      "6 X 9 = 54\n",
      "6 X 10 = 60\n",
      "\n",
      "7 X 1 = 7\n",
      "7 X 2 = 14\n",
      "7 X 3 = 21\n",
      "7 X 4 = 28\n",
      "7 X 5 = 35\n",
      "7 X 6 = 42\n",
      "7 X 7 = 49\n",
      "7 X 8 = 56\n",
      "7 X 9 = 63\n",
      "7 X 10 = 70\n",
      "\n",
      "8 X 1 = 8\n",
      "8 X 2 = 16\n",
      "8 X 3 = 24\n",
      "8 X 4 = 32\n",
      "8 X 5 = 40\n",
      "8 X 6 = 48\n",
      "8 X 7 = 56\n",
      "8 X 8 = 64\n",
      "8 X 9 = 72\n",
      "8 X 10 = 80\n",
      "\n",
      "9 X 1 = 9\n",
      "9 X 2 = 18\n",
      "9 X 3 = 27\n",
      "9 X 4 = 36\n",
      "9 X 5 = 45\n",
      "9 X 6 = 54\n",
      "9 X 7 = 63\n",
      "9 X 8 = 72\n",
      "9 X 9 = 81\n",
      "9 X 10 = 90\n",
      "\n",
      "10 X 1 = 10\n",
      "10 X 2 = 20\n",
      "10 X 3 = 30\n",
      "10 X 4 = 40\n",
      "10 X 5 = 50\n",
      "10 X 6 = 60\n",
      "10 X 7 = 70\n",
      "10 X 8 = 80\n",
      "10 X 9 = 90\n",
      "10 X 10 = 100\n",
      "\n",
      "11 X 1 = 11\n",
      "11 X 2 = 22\n",
      "11 X 3 = 33\n",
      "11 X 4 = 44\n",
      "11 X 5 = 55\n",
      "11 X 6 = 66\n",
      "11 X 7 = 77\n",
      "11 X 8 = 88\n",
      "11 X 9 = 99\n",
      "11 X 10 = 110\n",
      "\n",
      "12 X 1 = 12\n",
      "12 X 2 = 24\n",
      "12 X 3 = 36\n",
      "12 X 4 = 48\n",
      "12 X 5 = 60\n",
      "12 X 6 = 72\n",
      "12 X 7 = 84\n",
      "12 X 8 = 96\n",
      "12 X 9 = 108\n",
      "12 X 10 = 120\n",
      "\n",
      "13 X 1 = 13\n",
      "13 X 2 = 26\n",
      "13 X 3 = 39\n",
      "13 X 4 = 52\n",
      "13 X 5 = 65\n",
      "13 X 6 = 78\n",
      "13 X 7 = 91\n",
      "13 X 8 = 104\n",
      "13 X 9 = 117\n",
      "13 X 10 = 130\n",
      "\n",
      "14 X 1 = 14\n",
      "14 X 2 = 28\n",
      "14 X 3 = 42\n",
      "14 X 4 = 56\n",
      "14 X 5 = 70\n",
      "14 X 6 = 84\n",
      "14 X 7 = 98\n",
      "14 X 8 = 112\n",
      "14 X 9 = 126\n",
      "14 X 10 = 140\n",
      "\n",
      "15 X 1 = 15\n",
      "15 X 2 = 30\n",
      "15 X 3 = 45\n",
      "15 X 4 = 60\n",
      "15 X 5 = 75\n",
      "15 X 6 = 90\n",
      "15 X 7 = 105\n",
      "15 X 8 = 120\n",
      "15 X 9 = 135\n",
      "15 X 10 = 150\n",
      "\n",
      "16 X 1 = 16\n",
      "16 X 2 = 32\n",
      "16 X 3 = 48\n",
      "16 X 4 = 64\n",
      "16 X 5 = 80\n",
      "16 X 6 = 96\n",
      "16 X 7 = 112\n",
      "16 X 8 = 128\n",
      "16 X 9 = 144\n",
      "16 X 10 = 160\n",
      "\n",
      "17 X 1 = 17\n",
      "17 X 2 = 34\n",
      "17 X 3 = 51\n",
      "17 X 4 = 68\n",
      "17 X 5 = 85\n",
      "17 X 6 = 102\n",
      "17 X 7 = 119\n",
      "17 X 8 = 136\n",
      "17 X 9 = 153\n",
      "17 X 10 = 170\n",
      "\n",
      "18 X 1 = 18\n",
      "18 X 2 = 36\n",
      "18 X 3 = 54\n",
      "18 X 4 = 72\n",
      "18 X 5 = 90\n",
      "18 X 6 = 108\n",
      "18 X 7 = 126\n",
      "18 X 8 = 144\n",
      "18 X 9 = 162\n",
      "18 X 10 = 180\n",
      "\n",
      "19 X 1 = 19\n",
      "19 X 2 = 38\n",
      "19 X 3 = 57\n",
      "19 X 4 = 76\n",
      "19 X 5 = 95\n",
      "19 X 6 = 114\n",
      "19 X 7 = 133\n",
      "19 X 8 = 152\n",
      "19 X 9 = 171\n",
      "19 X 10 = 190\n",
      "\n",
      "20 X 1 = 20\n",
      "20 X 2 = 40\n",
      "20 X 3 = 60\n",
      "20 X 4 = 80\n",
      "20 X 5 = 100\n",
      "20 X 6 = 120\n",
      "20 X 7 = 140\n",
      "20 X 8 = 160\n",
      "20 X 9 = 180\n",
      "20 X 10 = 200\n",
      "\n"
     ]
    }
   ],
   "source": [
    "for j in range(1,21):\n",
    "    for i in range(1,11):\n",
    "        mul = j * i\n",
    "        print(j, 'X', i , '=',mul)\n",
    "        i = i +1\n",
    "    j = j +1\n",
    "    print()"
   ]
  },
  {
   "cell_type": "code",
   "execution_count": null,
   "id": "9f4dfaa7",
   "metadata": {},
   "outputs": [],
   "source": [
    "# Method 2"
   ]
  },
  {
   "cell_type": "code",
   "execution_count": 26,
   "id": "57422688",
   "metadata": {},
   "outputs": [
    {
     "name": "stdout",
     "output_type": "stream",
     "text": [
      "1 x 1 = 1      2 x 1 = 2      3 x 1 = 3\n",
      "1 x 2 = 2      2 x 2 = 4      3 x 2 = 6\n",
      "1 x 3 = 3      2 x 3 = 6      3 x 3 = 9\n",
      "1 x 4 = 4      2 x 4 = 8      3 x 4 = 12\n",
      "1 x 5 = 5      2 x 5 = 10      3 x 5 = 15\n",
      "1 x 6 = 6      2 x 6 = 12      3 x 6 = 18\n",
      "1 x 7 = 7      2 x 7 = 14      3 x 7 = 21\n",
      "1 x 8 = 8      2 x 8 = 16      3 x 8 = 24\n",
      "1 x 9 = 9      2 x 9 = 18      3 x 9 = 27\n",
      "1 x 10 = 10      2 x 10 = 20      3 x 10 = 30\n"
     ]
    }
   ],
   "source": [
    "table_array = []\n",
    "\n",
    "for j in range(1,4):\n",
    "    arr = []\n",
    "    for i in range(1,11):\n",
    "        mul = j * i\n",
    "        arr.append(f\"{j} x {i} = {j*i}\")\n",
    "        # print(j, 'x', i, '=', j*i)\n",
    "        i = i +1\n",
    "    table_array.append(arr)\n",
    "    j = j +1\n",
    "\n",
    "for i in range(0,10):\n",
    "    print(table_array[0][i], \"    \" , table_array[1][i], \"    \", table_array[2][i])"
   ]
  },
  {
   "cell_type": "code",
   "execution_count": 54,
   "id": "6ed4a06b",
   "metadata": {},
   "outputs": [
    {
     "name": "stdout",
     "output_type": "stream",
     "text": [
      "Object `sequence` not found.\n"
     ]
    }
   ],
   "source": [
    "3. Write a Python Program to Print the Fibonacci sequence?"
   ]
  },
  {
   "cell_type": "code",
   "execution_count": null,
   "id": "0f868c51",
   "metadata": {},
   "outputs": [],
   "source": [
    "#Method 1"
   ]
  },
  {
   "cell_type": "code",
   "execution_count": 51,
   "id": "0c54da53",
   "metadata": {},
   "outputs": [
    {
     "name": "stdout",
     "output_type": "stream",
     "text": [
      "How many terms? 10\n",
      "Fibonacci sequence:\n",
      "0\n",
      "1\n",
      "1\n",
      "2\n",
      "3\n",
      "5\n",
      "8\n",
      "13\n",
      "21\n",
      "34\n"
     ]
    }
   ],
   "source": [
    "# Program to display the Fibonacci sequence up to n-th term\n",
    "\n",
    "nterms = int(input(\"How many terms? \"))\n",
    "\n",
    "# first two terms\n",
    "n1, n2 = 0, 1\n",
    "count = 0\n",
    "\n",
    "# check if the number of terms is valid\n",
    "if nterms <= 0:\n",
    "    print(\"Please enter a positive integer\")\n",
    "# if there is only one term, return n1\n",
    "elif nterms == 1:\n",
    "    print(\"Fibonacci sequence upto\",nterms,\":\")\n",
    "    print(n1)\n",
    "# generate fibonacci sequence\n",
    "else:\n",
    "    print(\"Fibonacci sequence:\")\n",
    "    while count < nterms:\n",
    "        print(n1)\n",
    "        nth = n1 + n2\n",
    "       # update values\n",
    "        n1 = n2\n",
    "        n2 = nth\n",
    "        count += 1 "
   ]
  },
  {
   "cell_type": "code",
   "execution_count": null,
   "id": "3942dc69",
   "metadata": {},
   "outputs": [],
   "source": [
    "# Method 2"
   ]
  },
  {
   "cell_type": "code",
   "execution_count": 12,
   "id": "de8bd8b9",
   "metadata": {},
   "outputs": [
    {
     "name": "stdout",
     "output_type": "stream",
     "text": [
      "13\n"
     ]
    }
   ],
   "source": [
    "# Taking 1st two fibonacci numbers as 0 and 1\n",
    " \n",
    "def fibonacci(n):\n",
    "    a = 0\n",
    "    b = 1\n",
    "     \n",
    "    # Check is n is less\n",
    "    # than 0\n",
    "    if n < 0:\n",
    "        print(\"Incorrect input\")\n",
    "         \n",
    "    # Check is n is equal\n",
    "    # to 0\n",
    "    elif n == 0:\n",
    "        return a\n",
    "       \n",
    "    # Check if n is equal to 1\n",
    "    elif n == 1:\n",
    "        return b\n",
    "    else:\n",
    "        for i in range(1, n):\n",
    "            c = a + b\n",
    "            a = b\n",
    "            b = c\n",
    "        return c\n",
    " \n",
    "# Driver Program\n",
    "print(fibonacci(7))"
   ]
  },
  {
   "cell_type": "code",
   "execution_count": 14,
   "id": "bba77159",
   "metadata": {
    "scrolled": true
   },
   "outputs": [
    {
     "name": "stdout",
     "output_type": "stream",
     "text": [
      "Object `Number` not found.\n"
     ]
    }
   ],
   "source": [
    "4. Write a Python Program to Check Armstrong Number?"
   ]
  },
  {
   "cell_type": "code",
   "execution_count": 127,
   "id": "edd03d3f",
   "metadata": {},
   "outputs": [
    {
     "name": "stdout",
     "output_type": "stream",
     "text": [
      "Enter a number: 8208\n",
      "Given number is armstrong number\n"
     ]
    }
   ],
   "source": [
    "num = int(input('Enter a number: '))\n",
    "s1 = str(num)\n",
    "sum=0\n",
    "for i in s1:\n",
    "    sum+=int(i)**len(s1)\n",
    "    if sum==num:\n",
    "        print('Given number is armstrong number')\n",
    "        break\n",
    "else:\n",
    "    print('Given number is not a armstrong number')"
   ]
  },
  {
   "cell_type": "code",
   "execution_count": 91,
   "id": "bfe08971",
   "metadata": {},
   "outputs": [
    {
     "name": "stdout",
     "output_type": "stream",
     "text": [
      "Object `Interval` not found.\n"
     ]
    }
   ],
   "source": [
    "5. Write a Python Program to Find Armstrong Number in an Interval?"
   ]
  },
  {
   "cell_type": "code",
   "execution_count": 119,
   "id": "58ca71b0",
   "metadata": {
    "scrolled": true
   },
   "outputs": [
    {
     "name": "stdout",
     "output_type": "stream",
     "text": [
      "Enter lower range: 0\n",
      "Enter upper range: 10000\n",
      "0\n",
      "1\n",
      "2\n",
      "3\n",
      "4\n",
      "5\n",
      "6\n",
      "7\n",
      "8\n",
      "9\n",
      "153\n",
      "370\n",
      "371\n",
      "407\n",
      "1634\n",
      "8208\n",
      "9474\n"
     ]
    }
   ],
   "source": [
    "a = int(input('Enter lower range: '))\n",
    "b = int(input('Enter upper range: '))\n",
    "for i in range(a,b):\n",
    "    if i in range(0,10):\n",
    "        print(i)\n",
    "    elif len(str(i))==3:\n",
    "        if (i // 100)**3 +(i % 100//10)**3+(i %10 //1)**3 == i:\n",
    "            print(i)\n",
    "    elif len(str(i))==4:\n",
    "        if ((i // 1000)**4) +((i % 1000//100)**4)+((i %100 //10)**4)+((i %10 //1)**4) == i:\n",
    "            print(i)"
   ]
  },
  {
   "cell_type": "code",
   "execution_count": null,
   "id": "73b955a5",
   "metadata": {},
   "outputs": [],
   "source": [
    "#METHOD 2"
   ]
  },
  {
   "cell_type": "code",
   "execution_count": 205,
   "id": "39dc6f7c",
   "metadata": {},
   "outputs": [
    {
     "name": "stdout",
     "output_type": "stream",
     "text": [
      "Enter range 1 100000\n",
      "1\n",
      "2\n",
      "3\n",
      "4\n",
      "5\n",
      "6\n",
      "7\n",
      "8\n",
      "9\n",
      "153\n",
      "370\n",
      "371\n",
      "407\n",
      "1634\n",
      "8208\n",
      "9474\n",
      "54748\n",
      "92727\n",
      "93084\n"
     ]
    }
   ],
   "source": [
    "a,b=map(int, input('Enter range ').split())\n",
    "for i in range(a,b+1):\n",
    "    c=len(str(i))\n",
    "    cube=0\n",
    "    i1=i\n",
    "    while(i1!=0):\n",
    "        d=i1%10\n",
    "        cube=cube+d**c\n",
    "        i1//=10\n",
    "    #print(cube)\n",
    "    if(cube==i):\n",
    "        print(i)"
   ]
  },
  {
   "cell_type": "code",
   "execution_count": null,
   "id": "4c115d1e",
   "metadata": {},
   "outputs": [],
   "source": []
  }
 ],
 "metadata": {
  "kernelspec": {
   "display_name": "Python 3",
   "language": "python",
   "name": "python3"
  },
  "language_info": {
   "codemirror_mode": {
    "name": "ipython",
    "version": 3
   },
   "file_extension": ".py",
   "mimetype": "text/x-python",
   "name": "python",
   "nbconvert_exporter": "python",
   "pygments_lexer": "ipython3",
   "version": "3.8.8"
  }
 },
 "nbformat": 4,
 "nbformat_minor": 5
}
