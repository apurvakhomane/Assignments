{
 "cells": [
  {
   "cell_type": "markdown",
   "id": "6f30ad4b",
   "metadata": {},
   "source": [
    "1. In the below elements which of them are values or an expression? eg:- values can be\n",
    "integer or string and expressions will be mathematical operators.\n",
    "*\n",
    "'hello'\n",
    "-87.8\n",
    "-\n",
    "/\n",
    "+\n",
    "6"
   ]
  },
  {
   "cell_type": "markdown",
   "id": "7f075e39",
   "metadata": {},
   "source": [
    "Ans. *, -, /, + are expressions.\n",
    "'hello', -87.8, 6 are values."
   ]
  },
  {
   "cell_type": "markdown",
   "id": "f5fce6e1",
   "metadata": {},
   "source": [
    "2. What is the difference between string and variable?"
   ]
  },
  {
   "cell_type": "markdown",
   "id": "3036bf12",
   "metadata": {},
   "source": [
    "Ans. A Variable is a store of information, or the name of the location in the primary memory of your computer. It can be manipulated if needed.\n",
    "A String is a type of information you would store in a Variable. so we can say a string is a type of variable or datatype.\n",
    "Variables can be of several types like integer, floats, string, boolean. \n",
    "string is written using single quotes or double quotes unlike in case of variable or a string is the values inside the quotes assigned to a variable.\n",
    "A variable can hold a string, but a string can't hold a variable.\n",
    "for example,"
   ]
  },
  {
   "cell_type": "code",
   "execution_count": 6,
   "id": "17483c62",
   "metadata": {},
   "outputs": [
    {
     "data": {
      "text/plain": [
       "str"
      ]
     },
     "execution_count": 6,
     "metadata": {},
     "output_type": "execute_result"
    }
   ],
   "source": [
    "# a is name of the variable and 'string' is the value assigned to it.\n",
    "a = 'string'  \n",
    "type(a)"
   ]
  },
  {
   "cell_type": "code",
   "execution_count": 13,
   "id": "75af3d13",
   "metadata": {},
   "outputs": [
    {
     "ename": "SyntaxError",
     "evalue": "cannot assign to literal (<ipython-input-13-2300824061f8>, line 1)",
     "output_type": "error",
     "traceback": [
      "\u001b[1;36m  File \u001b[1;32m\"<ipython-input-13-2300824061f8>\"\u001b[1;36m, line \u001b[1;32m1\u001b[0m\n\u001b[1;33m    'string'= a\u001b[0m\n\u001b[1;37m    ^\u001b[0m\n\u001b[1;31mSyntaxError\u001b[0m\u001b[1;31m:\u001b[0m cannot assign to literal\n"
     ]
    }
   ],
   "source": [
    "'string'= a"
   ]
  },
  {
   "cell_type": "code",
   "execution_count": 11,
   "id": "cec62123",
   "metadata": {},
   "outputs": [
    {
     "name": "stdout",
     "output_type": "stream",
     "text": [
      "1020\n"
     ]
    },
    {
     "data": {
      "text/plain": [
       "str"
      ]
     },
     "execution_count": 11,
     "metadata": {},
     "output_type": "execute_result"
    }
   ],
   "source": [
    "# case 1: Variables a and b are strings.\n",
    "a = \"10\" \n",
    "b = \"20\" \n",
    "print(a+b)  #prints 1020 \n",
    "type(a)\n",
    "type(b)\n",
    "\n"
   ]
  },
  {
   "cell_type": "code",
   "execution_count": 12,
   "id": "a5203ec8",
   "metadata": {},
   "outputs": [
    {
     "name": "stdout",
     "output_type": "stream",
     "text": [
      "30\n"
     ]
    },
    {
     "data": {
      "text/plain": [
       "int"
      ]
     },
     "execution_count": 12,
     "metadata": {},
     "output_type": "execute_result"
    }
   ],
   "source": [
    "# case 2. Variables a and b are integers\n",
    "a = 10 \n",
    "b = 20 \n",
    "print(a+b)  #prints 30\n",
    "type(a)\n",
    "type(b)"
   ]
  },
  {
   "cell_type": "code",
   "execution_count": 16,
   "id": "f0827e1c",
   "metadata": {
    "scrolled": true
   },
   "outputs": [
    {
     "name": "stdout",
     "output_type": "stream",
     "text": [
      "what did you have for lunch?\n"
     ]
    }
   ],
   "source": [
    "q = \"what did you have for lunch?\"\n",
    "print(q)"
   ]
  },
  {
   "cell_type": "code",
   "execution_count": 17,
   "id": "ecdbf733",
   "metadata": {},
   "outputs": [
    {
     "name": "stdout",
     "output_type": "stream",
     "text": [
      "q\n"
     ]
    }
   ],
   "source": [
    "q = \"what did you have for lunch?\"\n",
    "print('q') "
   ]
  },
  {
   "cell_type": "markdown",
   "id": "0f3d8bc7",
   "metadata": {},
   "source": [
    "We cannot use space or “” & ‘’ while specifying the Variable. Only we have to use the letters without space we cannot use numeric types and collection types, like lists, tuples, dictionaries.\n",
    "\n",
    "In string we have to use “” & ‘’ also can use space in between colons and we can use any of these (Ex. numeric types and collection types, like lists, tuples, dictionaries)"
   ]
  },
  {
   "attachments": {},
   "cell_type": "markdown",
   "id": "c5cd7faa",
   "metadata": {},
   "source": [
    "3. Describe three different data types.\n"
   ]
  },
  {
   "cell_type": "markdown",
   "id": "647f484a",
   "metadata": {},
   "source": [
    "A. Numeric -\n",
    "In Python, numeric data type represent the data which has numeric value. Numeric value can be integer, floating number or even complex numbers. These values are defined as int, float and complex class in Python.\n",
    "\n",
    "Integers – This value is represented by int class. It contains positive or negative whole numbers (without fraction or decimal). In Python there is no limit to how long an integer value can be.\n",
    "\n",
    "Float – This value is represented by float class. It is a real number with floating point representation. It is specified by a decimal point. Optionally, the character e or E followed by a positive or negative integer may be appended to specify scientific notation.\n",
    "\n",
    "Complex Numbers – Complex number is represented by complex class. It is specified as (real part) + (imaginary part)j. For example – 2+3j"
   ]
  },
  {
   "cell_type": "code",
   "execution_count": 18,
   "id": "55ab0b18",
   "metadata": {},
   "outputs": [
    {
     "name": "stdout",
     "output_type": "stream",
     "text": [
      "Type of a:  <class 'int'>\n",
      "Type of b:  <class 'float'>\n",
      "Type of c:  <class 'complex'>\n"
     ]
    }
   ],
   "source": [
    "a = 5\n",
    "print(\"Type of a: \", type(a))\n",
    "  \n",
    "b = 5.0\n",
    "print(\"Type of b: \", type(b))\n",
    "  \n",
    "c = 2 + 4j\n",
    "print(\"Type of c: \", type(c))"
   ]
  },
  {
   "cell_type": "markdown",
   "id": "9642234f",
   "metadata": {},
   "source": [
    "B. Sequence type - In Python, sequence is the ordered collection of similar or different data types. Sequences allows to store multiple values in an organized and efficient fashion. \n",
    "\n",
    "String -  A string is a collection of one or more characters put in a single quote, double-quote or triple quote. In python there is no character data type, a character is a string of length one. It is represented by str class."
   ]
  },
  {
   "cell_type": "code",
   "execution_count": 19,
   "id": "fbb01112",
   "metadata": {},
   "outputs": [
    {
     "name": "stdout",
     "output_type": "stream",
     "text": [
      "Hello World\n"
     ]
    }
   ],
   "source": [
    "string = \"Hello World\"\n",
    "print(string)"
   ]
  },
  {
   "cell_type": "markdown",
   "id": "ac2b3316",
   "metadata": {},
   "source": [
    "list-  list is created by placing all the items inside square brackets [], separated by commas.\n",
    "It can have any number of items and they may or may not be of different types (integer, float, string, etc.).\n",
    "A list is mutable, which suggests we can modify the list."
   ]
  },
  {
   "cell_type": "code",
   "execution_count": 1,
   "id": "0ae98be0",
   "metadata": {},
   "outputs": [
    {
     "name": "stdout",
     "output_type": "stream",
     "text": [
      "[3, 4, 7, 5, 'Hello']\n",
      "7\n",
      "[7, 5]\n",
      "[3, 4, 7, 8, 'Hello']\n"
     ]
    }
   ],
   "source": [
    "list = [3,4,7,5, 'Hello']\n",
    "print(list)\n",
    "print(list[2])\n",
    "print(list[2:4])\n",
    "list[3] = 8\n",
    "print(list)"
   ]
  },
  {
   "cell_type": "markdown",
   "id": "600b96b5",
   "metadata": {},
   "source": [
    "Tuple - A tuple is defined as an ordered collection of Python objects. The only difference between tuple and list is that tuples are immutable i.e. tuples can’t be modified after it’s created. It is represented by tuple class. we can represent tuples using parentheses ( )."
   ]
  },
  {
   "cell_type": "code",
   "execution_count": 8,
   "id": "bca4f33b",
   "metadata": {},
   "outputs": [
    {
     "name": "stdout",
     "output_type": "stream",
     "text": [
      "tuple =  (25, 20, 5.3, 'world')\n",
      "5.3\n"
     ]
    },
    {
     "data": {
      "text/plain": [
       "(25, 20, 5.3, 'world')"
      ]
     },
     "execution_count": 8,
     "metadata": {},
     "output_type": "execute_result"
    }
   ],
   "source": [
    "tuple = (25,20,5.3, 'world')\n",
    "print('tuple = ', tuple)\n",
    "print(tuple[2])\n",
    "tuple[:4]"
   ]
  },
  {
   "cell_type": "markdown",
   "id": "c47fe0c1",
   "metadata": {},
   "source": [
    "C. boolean - Data type with one of the two built-in values, True or False. Boolean objects that are equal to True are truthy (true), and those equal to False are falsy (false). But non-Boolean objects can be evaluated in Boolean context as well and determined to be true or false. It is denoted by the class bool."
   ]
  },
  {
   "cell_type": "code",
   "execution_count": 12,
   "id": "0429323e",
   "metadata": {},
   "outputs": [
    {
     "name": "stdout",
     "output_type": "stream",
     "text": [
      "<class 'bool'>\n",
      "<class 'bool'>\n"
     ]
    }
   ],
   "source": [
    "c = 10\n",
    "d = 15\n",
    "print(type( c == 10))\n",
    "print(type(d < 15))\n"
   ]
  },
  {
   "cell_type": "code",
   "execution_count": 13,
   "id": "aaa774e0",
   "metadata": {},
   "outputs": [
    {
     "data": {
      "text/plain": [
       "True"
      ]
     },
     "execution_count": 13,
     "metadata": {},
     "output_type": "execute_result"
    }
   ],
   "source": [
    "c == 10"
   ]
  },
  {
   "cell_type": "code",
   "execution_count": 14,
   "id": "f1a82461",
   "metadata": {},
   "outputs": [
    {
     "data": {
      "text/plain": [
       "False"
      ]
     },
     "execution_count": 14,
     "metadata": {},
     "output_type": "execute_result"
    }
   ],
   "source": [
    "d < 10"
   ]
  },
  {
   "cell_type": "markdown",
   "id": "378b5724",
   "metadata": {},
   "source": [
    "4. What is an expression made up of? What do all expressions do?\n",
    "\n",
    "Ans. An expression is a sequence of operands and operators, like a + b - 5, is called an expression. Any sequence of literals (strings, numbers, lists, sets, tuples), objects, function calls, identifiers combined with a variety of operators which evaluate (that is, reduce) to a single value\n",
    "regardless of whether the resulting value is an object, or a number, or even a none. "
   ]
  },
  {
   "cell_type": "markdown",
   "id": "721bc4fa",
   "metadata": {},
   "source": [
    "5. This assignment statements, like spam = 10. What is the difference between an expression and a statement?\n",
    "\n",
    "Ans. An expression evaluates to a single value. it is combination of operators and operands. A statement does not. A statement does something, like creating a variable or displaying a value, it only does whatever the statement says. "
   ]
  },
  {
   "cell_type": "markdown",
   "id": "c3d51269",
   "metadata": {},
   "source": [
    "6. After running the following code, what does the variable bacon contain?"
   ]
  },
  {
   "cell_type": "code",
   "execution_count": 28,
   "id": "602a0199",
   "metadata": {},
   "outputs": [
    {
     "name": "stdout",
     "output_type": "stream",
     "text": [
      "23\n"
     ]
    }
   ],
   "source": [
    "bacon = 22 \n",
    "print(bacon + 1)"
   ]
  },
  {
   "cell_type": "markdown",
   "id": "fc142601",
   "metadata": {},
   "source": [
    "the code returns 23. but the variable bacon contain value 22."
   ]
  },
  {
   "cell_type": "markdown",
   "id": "c9737271",
   "metadata": {},
   "source": [
    "7. What should the values of the following two terms be?\n"
   ]
  },
  {
   "cell_type": "code",
   "execution_count": 15,
   "id": "54b24023",
   "metadata": {},
   "outputs": [
    {
     "data": {
      "text/plain": [
       "'spamspamspam'"
      ]
     },
     "execution_count": 15,
     "metadata": {},
     "output_type": "execute_result"
    }
   ],
   "source": [
    "'spam' + 'spamspam'"
   ]
  },
  {
   "cell_type": "code",
   "execution_count": 16,
   "id": "ed9ec279",
   "metadata": {},
   "outputs": [
    {
     "data": {
      "text/plain": [
       "'spamspamspam'"
      ]
     },
     "execution_count": 16,
     "metadata": {},
     "output_type": "execute_result"
    }
   ],
   "source": [
    "'spam'*3"
   ]
  },
  {
   "cell_type": "markdown",
   "id": "bd1c7c45",
   "metadata": {},
   "source": [
    "they give the same results by concatenating strings together "
   ]
  },
  {
   "cell_type": "markdown",
   "id": "7ff7d706",
   "metadata": {},
   "source": [
    "8. Why is eggs a valid variable name while 100 is invalid?"
   ]
  },
  {
   "cell_type": "code",
   "execution_count": null,
   "id": "8df38dbf",
   "metadata": {},
   "outputs": [],
   "source": [
    "Ans. Variable names cannot begin with a number. "
   ]
  },
  {
   "cell_type": "code",
   "execution_count": 19,
   "id": "95f07937",
   "metadata": {},
   "outputs": [
    {
     "ename": "SyntaxError",
     "evalue": "invalid syntax (<ipython-input-19-7bece5e7ec69>, line 1)",
     "output_type": "error",
     "traceback": [
      "\u001b[1;36m  File \u001b[1;32m\"<ipython-input-19-7bece5e7ec69>\"\u001b[1;36m, line \u001b[1;32m1\u001b[0m\n\u001b[1;33m    9name = 10\u001b[0m\n\u001b[1;37m     ^\u001b[0m\n\u001b[1;31mSyntaxError\u001b[0m\u001b[1;31m:\u001b[0m invalid syntax\n"
     ]
    }
   ],
   "source": [
    "# doesn't work\n",
    "9name = 10     \n",
    "print(9name) "
   ]
  },
  {
   "cell_type": "code",
   "execution_count": 20,
   "id": "eef82096",
   "metadata": {},
   "outputs": [
    {
     "name": "stdout",
     "output_type": "stream",
     "text": [
      "10\n"
     ]
    }
   ],
   "source": [
    "# works \n",
    "name9 = 10     \n",
    "print(name9) "
   ]
  },
  {
   "cell_type": "markdown",
   "id": "a22261d4",
   "metadata": {},
   "source": [
    "9. What three functions can be used to get the integer, floating-point number, or string\n",
    "version of a value?\n",
    "\n",
    "Ans. The int(), float(), and str() functions will evaluate to the integer, floating-point number, and string versions of the value passed to them."
   ]
  },
  {
   "cell_type": "markdown",
   "id": "02795a24",
   "metadata": {},
   "source": [
    "10. Why does this expression cause an error? How can you fix it?\n"
   ]
  },
  {
   "cell_type": "code",
   "execution_count": 23,
   "id": "972fe5f7",
   "metadata": {},
   "outputs": [
    {
     "ename": "TypeError",
     "evalue": "can only concatenate str (not \"int\") to str",
     "output_type": "error",
     "traceback": [
      "\u001b[1;31m---------------------------------------------------------------------------\u001b[0m",
      "\u001b[1;31mTypeError\u001b[0m                                 Traceback (most recent call last)",
      "\u001b[1;32m<ipython-input-23-d38051168539>\u001b[0m in \u001b[0;36m<module>\u001b[1;34m\u001b[0m\n\u001b[1;32m----> 1\u001b[1;33m \u001b[1;34m'I have eaten'\u001b[0m \u001b[1;33m+\u001b[0m \u001b[1;36m99\u001b[0m \u001b[1;33m+\u001b[0m\u001b[1;34m'burritos.'\u001b[0m\u001b[1;33m\u001b[0m\u001b[1;33m\u001b[0m\u001b[0m\n\u001b[0m",
      "\u001b[1;31mTypeError\u001b[0m: can only concatenate str (not \"int\") to str"
     ]
    }
   ],
   "source": [
    "'I have eaten' + 99 +'burritos.'"
   ]
  },
  {
   "cell_type": "markdown",
   "id": "88a0f23a",
   "metadata": {},
   "source": [
    "this expression throws an error because can only concatenate str (not \"int\") to str\n",
    "so we need to convert integer 99 into a string first"
   ]
  },
  {
   "cell_type": "code",
   "execution_count": 26,
   "id": "dac4f7ea",
   "metadata": {},
   "outputs": [
    {
     "data": {
      "text/plain": [
       "'I have eaten 99 burritos.'"
      ]
     },
     "execution_count": 26,
     "metadata": {},
     "output_type": "execute_result"
    }
   ],
   "source": [
    "'I have eaten ' + str(99) +' burritos.'"
   ]
  }
 ],
 "metadata": {
  "kernelspec": {
   "display_name": "Python 3",
   "language": "python",
   "name": "python3"
  },
  "language_info": {
   "codemirror_mode": {
    "name": "ipython",
    "version": 3
   },
   "file_extension": ".py",
   "mimetype": "text/x-python",
   "name": "python",
   "nbconvert_exporter": "python",
   "pygments_lexer": "ipython3",
   "version": "3.8.8"
  }
 },
 "nbformat": 4,
 "nbformat_minor": 5
}
