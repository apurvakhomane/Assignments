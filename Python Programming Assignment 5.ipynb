{
 "cells": [
  {
   "cell_type": "markdown",
   "id": "a9f03efb",
   "metadata": {},
   "source": [
    "1. Write a Python Program to Find LCM?\n",
    "2. Write a Python Program to Find HCF?\n",
    "3. Write a Python Program to Convert Decimal to Binary, Octal and Hexadecimal?\n",
    "4. Write a Python Program To Find ASCII value of a character?\n",
    "5. Write a Python Program to Make a Simple Calculator with 4 basic mathematical operations?"
   ]
  },
  {
   "cell_type": "code",
   "execution_count": 1,
   "id": "9717747b",
   "metadata": {},
   "outputs": [],
   "source": [
    "#Answer 1"
   ]
  },
  {
   "cell_type": "code",
   "execution_count": null,
   "id": "4733ccdd",
   "metadata": {},
   "outputs": [],
   "source": [
    "#Method 1"
   ]
  },
  {
   "cell_type": "code",
   "execution_count": 56,
   "id": "bbb0df57",
   "metadata": {},
   "outputs": [
    {
     "name": "stdout",
     "output_type": "stream",
     "text": [
      "Enter Two numbers separated by space: 5 7\n",
      "LCM is 35\n"
     ]
    }
   ],
   "source": [
    "a,b=map(int, input('Enter Two numbers separated by space: ').split())\n",
    "s1 = []\n",
    "s2 = []\n",
    "for i in range(1,11):\n",
    "    s1.append(a* i)\n",
    "\n",
    "for i in range(1,11):\n",
    "    s2.append(b* i)\n",
    "\n",
    "result = [i for i in s1 if i in s2]\n",
    "\n",
    "print('LCM is', result[0])"
   ]
  },
  {
   "cell_type": "code",
   "execution_count": null,
   "id": "592db8a9",
   "metadata": {},
   "outputs": [],
   "source": [
    "#Method 2"
   ]
  },
  {
   "cell_type": "code",
   "execution_count": 58,
   "id": "c76a1faf",
   "metadata": {},
   "outputs": [
    {
     "name": "stdout",
     "output_type": "stream",
     "text": [
      "5 7\n",
      "35\n"
     ]
    }
   ],
   "source": [
    "a,b=map(int, input().split())\n",
    "i=max(a,b)\n",
    "while(True):\n",
    "    if(i%a==0 and i%b==0):\n",
    "        print(i)\n",
    "        break\n",
    "    else:\n",
    "        i+=1 "
   ]
  },
  {
   "cell_type": "code",
   "execution_count": 60,
   "id": "9bb5e7ca",
   "metadata": {},
   "outputs": [],
   "source": [
    "#Answer 2"
   ]
  },
  {
   "cell_type": "code",
   "execution_count": null,
   "id": "d8648fd7",
   "metadata": {},
   "outputs": [],
   "source": [
    "#Method 1"
   ]
  },
  {
   "cell_type": "code",
   "execution_count": 66,
   "id": "33ad8e41",
   "metadata": {},
   "outputs": [
    {
     "name": "stdout",
     "output_type": "stream",
     "text": [
      "Enter Two numbers separated by space: 198 360\n",
      "HCF is 18\n"
     ]
    }
   ],
   "source": [
    "a,b=map(int, input('Enter Two numbers separated by space: ').split())\n",
    "s1 = []\n",
    "s2 = []\n",
    "for i in range(1,a+1):\n",
    "    if a%i==0:\n",
    "        s1.append(i)\n",
    "for i in range(1,b+1):\n",
    "    if b%i==0:\n",
    "        s2.append(i)\n",
    "        \n",
    "result = [i for i in s1 if i in s2]\n",
    "\n",
    "print('HCF is', result[-1])"
   ]
  },
  {
   "cell_type": "code",
   "execution_count": null,
   "id": "278f7a56",
   "metadata": {},
   "outputs": [],
   "source": [
    "#Method 2"
   ]
  },
  {
   "cell_type": "code",
   "execution_count": 11,
   "id": "965ae7a4",
   "metadata": {},
   "outputs": [
    {
     "name": "stdout",
     "output_type": "stream",
     "text": [
      "198 360\n",
      "HCF is 18\n"
     ]
    }
   ],
   "source": [
    "a,b=map(int, input().split())\n",
    "i=min(a,b)\n",
    "for i in range(i, 1, -1):\n",
    "    if(a%i==0 and b%i==0):\n",
    "        print('HCF is', i)    \n",
    "        break"
   ]
  },
  {
   "cell_type": "code",
   "execution_count": 14,
   "id": "d5c68dda",
   "metadata": {},
   "outputs": [
    {
     "name": "stdout",
     "output_type": "stream",
     "text": [
      "198 360\n",
      "18\n"
     ]
    }
   ],
   "source": [
    "#By using while loop\n",
    "a,b=map(int, input().split())\n",
    "i=min(a,b)\n",
    "while(i>=1):\n",
    "    if(a%i==0 and b%i==0):\n",
    "        print(i)\n",
    "        break\n",
    "    else:\n",
    "        i-=1"
   ]
  },
  {
   "cell_type": "code",
   "execution_count": 39,
   "id": "4581dca9",
   "metadata": {},
   "outputs": [],
   "source": [
    "#Answer 3"
   ]
  },
  {
   "cell_type": "code",
   "execution_count": 42,
   "id": "a475f9f5",
   "metadata": {},
   "outputs": [
    {
     "name": "stdout",
     "output_type": "stream",
     "text": [
      "Enter a number in decimal form: 4\n",
      "Decimal to binary:  0b100\n",
      "Decimal to octal:  0o4\n",
      "Decimal to hexadecimal:  0x4\n"
     ]
    }
   ],
   "source": [
    "d=int(input('Enter a number in decimal form: '))\n",
    "print(\"Decimal to binary: \",bin(d))\n",
    "print(\"Decimal to octal: \",oct(d))\n",
    "print(\"Decimal to hexadecimal: \",hex(d))"
   ]
  },
  {
   "cell_type": "code",
   "execution_count": 43,
   "id": "8f7d34cb",
   "metadata": {},
   "outputs": [],
   "source": [
    "#Answer 4"
   ]
  },
  {
   "cell_type": "code",
   "execution_count": 45,
   "id": "188b73fb",
   "metadata": {},
   "outputs": [
    {
     "name": "stdout",
     "output_type": "stream",
     "text": [
      "Enter a character: A\n",
      "The ASCII value of 'A' is  65\n"
     ]
    }
   ],
   "source": [
    "c = input(\"Enter a character: \")    \n",
    "    \n",
    "print (\"The ASCII value of '\" + c + \"' is \", ord(c))  "
   ]
  },
  {
   "cell_type": "code",
   "execution_count": 46,
   "id": "a2d9f7a3",
   "metadata": {},
   "outputs": [],
   "source": [
    "#Answer 5"
   ]
  },
  {
   "cell_type": "code",
   "execution_count": 3,
   "id": "924c5b9f",
   "metadata": {},
   "outputs": [
    {
     "name": "stdout",
     "output_type": "stream",
     "text": [
      "Select Operation 1. Addition, 2. Subtraction, 3. Multiplication, 4. Divison:\n",
      "3\n",
      "34 45\n",
      "1530\n"
     ]
    }
   ],
   "source": [
    "n=int(input('Select Operation 1. Addition, 2. Subtraction, 3. Multiplication, 4. Divison:\\n'))\n",
    "a,b=map(int, input().split())\n",
    "\n",
    "def add(a,b):\n",
    "    return(a+b)\n",
    "def sub(a,b):\n",
    "    return(a-b)\n",
    "def mul(a,b):\n",
    "    return(a*b)\n",
    "def div(a,b):\n",
    "    return(a/b)\n",
    "\n",
    "if(n==1):\n",
    "    print(add(a,b))\n",
    "elif(n==2):\n",
    "    print(sub(a,b))\n",
    "elif(n==3):\n",
    "    print(mul(a,b))\n",
    "else:\n",
    "    print(div(a,b))"
   ]
  }
 ],
 "metadata": {
  "kernelspec": {
   "display_name": "Python 3",
   "language": "python",
   "name": "python3"
  },
  "language_info": {
   "codemirror_mode": {
    "name": "ipython",
    "version": 3
   },
   "file_extension": ".py",
   "mimetype": "text/x-python",
   "name": "python",
   "nbconvert_exporter": "python",
   "pygments_lexer": "ipython3",
   "version": "3.8.8"
  }
 },
 "nbformat": 4,
 "nbformat_minor": 5
}
